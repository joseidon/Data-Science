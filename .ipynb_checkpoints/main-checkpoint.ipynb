{
 "cells": [
  {
   "cell_type": "code",
   "execution_count": 1,
   "metadata": {},
   "outputs": [
    {
     "name": "stdout",
     "output_type": "stream",
     "text": [
      "Hello World!\n"
     ]
    }
   ],
   "source": [
    "print(\"Hello World!\")"
   ]
  },
  {
   "cell_type": "code",
   "execution_count": 1,
   "metadata": {},
   "outputs": [
    {
     "name": "stdout",
     "output_type": "stream",
     "text": [
      "Requirement already satisfied: pandas in c:\\users\\jonar\\anaconda3\\lib\\site-packages (0.25.1)\n",
      "Requirement already satisfied: numpy>=1.13.3 in c:\\users\\jonar\\anaconda3\\lib\\site-packages (from pandas) (1.16.5)\n",
      "Requirement already satisfied: pytz>=2017.2 in c:\\users\\jonar\\anaconda3\\lib\\site-packages (from pandas) (2019.3)\n",
      "Requirement already satisfied: python-dateutil>=2.6.1 in c:\\users\\jonar\\anaconda3\\lib\\site-packages (from pandas) (2.8.0)\n",
      "Requirement already satisfied: six>=1.5 in c:\\users\\jonar\\anaconda3\\lib\\site-packages (from python-dateutil>=2.6.1->pandas) (1.12.0)\n"
     ]
    }
   ],
   "source": [
    "!pip install pandas"
   ]
  },
  {
   "cell_type": "code",
   "execution_count": 5,
   "metadata": {},
   "outputs": [],
   "source": [
    "import hashlib\n",
    "import pandas"
   ]
  },
  {
   "cell_type": "code",
   "execution_count": 6,
   "metadata": {},
   "outputs": [
    {
     "name": "stdout",
     "output_type": "stream",
     "text": [
      "<sha256 HASH object @ 0x00000203EEFD4A20>\n"
     ]
    }
   ],
   "source": [
    "text=\"Hallo wie geht es\"\n",
    "result = hashlib.sha256(text.encode())\n",
    "print(result)"
   ]
  },
  {
   "cell_type": "code",
   "execution_count": 93,
   "metadata": {},
   "outputs": [
    {
     "name": "stdout",
     "output_type": "stream",
     "text": [
      "0               Tim Elliot\n",
      "1         Lewis Lee Lembke\n",
      "2       John Paul Quintero\n",
      "3          Matthew Hoffman\n",
      "4        Michael Rodriguez\n",
      "               ...        \n",
      "4890       Rayshard Brooks\n",
      "4891        Caine Van Pelt\n",
      "4892          Hannah Fizer\n",
      "4893        William Slyter\n",
      "4894        Nicholas Hirsh\n",
      "Name: name, Length: 4895, dtype: object\n"
     ]
    }
   ],
   "source": [
    "rawFile = pandas.read_csv('shootings.csv')\n",
    "rawFile.head()\n",
    "print(rawFile[\"name\"])\n",
    "#name and death get hashed"
   ]
  },
  {
   "cell_type": "code",
   "execution_count": 94,
   "metadata": {},
   "outputs": [
    {
     "name": "stdout",
     "output_type": "stream",
     "text": [
      "0               Tim Elliot\n",
      "1         Lewis Lee Lembke\n",
      "2       John Paul Quintero\n",
      "3          Matthew Hoffman\n",
      "4        Michael Rodriguez\n",
      "               ...        \n",
      "4890       Rayshard Brooks\n",
      "4891        Caine Van Pelt\n",
      "4892          Hannah Fizer\n",
      "4893        William Slyter\n",
      "4894        Nicholas Hirsh\n",
      "Name: name, Length: 4895, dtype: object\n",
      "0       a037bd31cab954b09eacc5bb131903c76b858ff84c42e6...\n",
      "1       9b82e1784ddb3ecee83043d599b795d4a2a822a7f73e12...\n",
      "2       68afdc240cbaec0271776a921939122501f4292e918ce5...\n",
      "3       0380f848c27d2d3e65c9b7e6d88a6e6826866396f7148e...\n",
      "4       f252a287a74169da5652cd518cb1670da7dd06b253becd...\n",
      "                              ...                        \n",
      "4890    e590bbf5859f3fd7a670cf1b32a185df38e4aa203a01cc...\n",
      "4891    db39be5dac0040547758cb8c8fe855bde610d0408b6e24...\n",
      "4892    b87505878243319662be9898f834338bf7b786b26aad09...\n",
      "4893    e74071a77d046ed3409849c4e44c2faf291d469e26baa2...\n",
      "4894    3c9ce883e8a245e8ef0cceaa0780226149837abcfa2185...\n",
      "Name: name, Length: 4895, dtype: object\n"
     ]
    }
   ],
   "source": [
    "data = rawFile.get(rawFile.columns[1])\n",
    "\n",
    "\n",
    "print(data)\n",
    "for index, row in rawFile.iterrows():\n",
    "    #print(row[1])\n",
    "    newName = hashlib.sha256(row[1].encode()).hexdigest()\n",
    "    #print(newData)\n",
    "    rawFile.loc[index, \"name\"] = newName\n",
    "    \n",
    "print(data)"
   ]
  },
  {
   "cell_type": "code",
   "execution_count": 96,
   "metadata": {},
   "outputs": [],
   "source": [
    "rawFile.to_csv('hashedName.csv')"
   ]
  },
  {
   "cell_type": "code",
   "execution_count": null,
   "metadata": {},
   "outputs": [],
   "source": []
  }
 ],
 "metadata": {
  "kernelspec": {
   "display_name": "Python 3",
   "language": "python",
   "name": "python3"
  },
  "language_info": {
   "codemirror_mode": {
    "name": "ipython",
    "version": 3
   },
   "file_extension": ".py",
   "mimetype": "text/x-python",
   "name": "python",
   "nbconvert_exporter": "python",
   "pygments_lexer": "ipython3",
   "version": "3.7.4"
  }
 },
 "nbformat": 4,
 "nbformat_minor": 2
}
